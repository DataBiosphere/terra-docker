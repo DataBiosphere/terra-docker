{
 "cells": [
  {
   "cell_type": "markdown",
   "id": "f86bf3f8",
   "metadata": {},
   "source": [
    "Test Bioconductor image"
   ]
  },
  {
   "cell_type": "code",
   "execution_count": 2,
   "id": "c9d40fe4",
   "metadata": {},
   "outputs": [
    {
     "data": {
      "text/plain": [
       "[1] ‘3.13’"
      ]
     },
     "metadata": {},
     "output_type": "display_data"
    }
   ],
   "source": [
    "BiocManager::version()"
   ]
  },
  {
   "cell_type": "code",
   "execution_count": 3,
   "id": "1eafcd8e",
   "metadata": {},
   "outputs": [
    {
     "name": "stderr",
     "output_type": "stream",
     "text": [
      "'getOption(\"repos\")' replaces Bioconductor standard repositories, see\n",
      "'?repositories' for details\n",
      "\n",
      "replacement repositories:\n",
      "    CRAN: https://cloud.r-project.org\n",
      "\n",
      "\n",
      "Bioconductor version 3.13 (BiocManager 1.30.15), R 4.1.0 (2021-05-18)\n",
      "\n",
      "Installing package(s) 'rsbml'\n",
      "\n",
      "also installing the dependency ‘graph’\n",
      "\n",
      "\n"
     ]
    }
   ],
   "source": [
    "BiocManager::install(\"rsbml\")"
   ]
  },
  {
   "cell_type": "code",
   "execution_count": 4,
   "id": "a869fc71",
   "metadata": {},
   "outputs": [
    {
     "name": "stderr",
     "output_type": "stream",
     "text": [
      "Loading required package: BiocGenerics\n",
      "\n",
      "Loading required package: parallel\n",
      "\n",
      "\n",
      "Attaching package: ‘BiocGenerics’\n",
      "\n",
      "\n",
      "The following objects are masked from ‘package:parallel’:\n",
      "\n",
      "    clusterApply, clusterApplyLB, clusterCall, clusterEvalQ,\n",
      "    clusterExport, clusterMap, parApply, parCapply, parLapply,\n",
      "    parLapplyLB, parRapply, parSapply, parSapplyLB\n",
      "\n",
      "\n",
      "The following objects are masked from ‘package:stats’:\n",
      "\n",
      "    IQR, mad, sd, var, xtabs\n",
      "\n",
      "\n",
      "The following objects are masked from ‘package:base’:\n",
      "\n",
      "    anyDuplicated, append, as.data.frame, basename, cbind, colnames,\n",
      "    dirname, do.call, duplicated, eval, evalq, Filter, Find, get, grep,\n",
      "    grepl, intersect, is.unsorted, lapply, Map, mapply, match, mget,\n",
      "    order, paste, pmax, pmax.int, pmin, pmin.int, Position, rank,\n",
      "    rbind, Reduce, rownames, sapply, setdiff, sort, table, tapply,\n",
      "    union, unique, unsplit, which.max, which.min\n",
      "\n",
      "\n"
     ]
    }
   ],
   "source": [
    "library(rsbml)"
   ]
  },
  {
   "cell_type": "code",
   "execution_count": 5,
   "id": "64642ac1",
   "metadata": {},
   "outputs": [
    {
     "name": "stderr",
     "output_type": "stream",
     "text": [
      "'getOption(\"repos\")' replaces Bioconductor standard repositories, see\n",
      "'?repositories' for details\n",
      "\n",
      "replacement repositories:\n",
      "    CRAN: https://cloud.r-project.org\n",
      "\n",
      "\n",
      "Bioconductor version 3.13 (BiocManager 1.30.15), R 4.1.0 (2021-05-18)\n",
      "\n",
      "Warning message:\n",
      "“package(s) not installed when version(s) same as current; use `force = TRUE` to\n",
      "  re-install: 'RCurl'”\n"
     ]
    }
   ],
   "source": [
    "BiocManager::install(\"RCurl\")"
   ]
  },
  {
   "cell_type": "code",
   "execution_count": 6,
   "id": "94d1a2af",
   "metadata": {},
   "outputs": [],
   "source": [
    "library(RCurl)"
   ]
  },
  {
   "cell_type": "code",
   "execution_count": 7,
   "id": "31a71cb4",
   "metadata": {},
   "outputs": [
    {
     "name": "stderr",
     "output_type": "stream",
     "text": [
      "Loading required package: SummarizedExperiment\n",
      "\n",
      "Loading required package: MatrixGenerics\n",
      "\n",
      "Loading required package: matrixStats\n",
      "\n",
      "\n",
      "Attaching package: ‘MatrixGenerics’\n",
      "\n",
      "\n",
      "The following objects are masked from ‘package:matrixStats’:\n",
      "\n",
      "    colAlls, colAnyNAs, colAnys, colAvgsPerRowSet, colCollapse,\n",
      "    colCounts, colCummaxs, colCummins, colCumprods, colCumsums,\n",
      "    colDiffs, colIQRDiffs, colIQRs, colLogSumExps, colMadDiffs,\n",
      "    colMads, colMaxs, colMeans2, colMedians, colMins, colOrderStats,\n",
      "    colProds, colQuantiles, colRanges, colRanks, colSdDiffs, colSds,\n",
      "    colSums2, colTabulates, colVarDiffs, colVars, colWeightedMads,\n",
      "    colWeightedMeans, colWeightedMedians, colWeightedSds,\n",
      "    colWeightedVars, rowAlls, rowAnyNAs, rowAnys, rowAvgsPerColSet,\n",
      "    rowCollapse, rowCounts, rowCummaxs, rowCummins, rowCumprods,\n",
      "    rowCumsums, rowDiffs, rowIQRDiffs, rowIQRs, rowLogSumExps,\n",
      "    rowMadDiffs, rowMads, rowMaxs, rowMeans2, rowMedians, rowMins,\n",
      "    rowOrderStats, rowProds, rowQuantiles, rowRanges, rowRanks,\n",
      "    rowSdDiffs, rowSds, rowSums2, rowTabulates, rowVarDiffs, rowVars,\n",
      "    rowWeightedMads, rowWeightedMeans, rowWeightedMedians,\n",
      "    rowWeightedSds, rowWeightedVars\n",
      "\n",
      "\n",
      "Loading required package: GenomicRanges\n",
      "\n",
      "Loading required package: stats4\n",
      "\n",
      "Loading required package: S4Vectors\n",
      "\n",
      "\n",
      "Attaching package: ‘S4Vectors’\n",
      "\n",
      "\n",
      "The following objects are masked from ‘package:base’:\n",
      "\n",
      "    expand.grid, I, unname\n",
      "\n",
      "\n",
      "Loading required package: IRanges\n",
      "\n",
      "\n",
      "Attaching package: ‘IRanges’\n",
      "\n",
      "\n",
      "The following object is masked from ‘package:rsbml’:\n",
      "\n",
      "    subject\n",
      "\n",
      "\n",
      "Loading required package: GenomeInfoDb\n",
      "\n",
      "Loading required package: Biobase\n",
      "\n",
      "Welcome to Bioconductor\n",
      "\n",
      "    Vignettes contain introductory material; view with\n",
      "    'browseVignettes()'. To cite Bioconductor, see\n",
      "    'citation(\"Biobase\")', and for packages 'citation(\"pkgname\")'.\n",
      "\n",
      "\n",
      "\n",
      "Attaching package: ‘Biobase’\n",
      "\n",
      "\n",
      "The following object is masked from ‘package:MatrixGenerics’:\n",
      "\n",
      "    rowMedians\n",
      "\n",
      "\n",
      "The following objects are masked from ‘package:matrixStats’:\n",
      "\n",
      "    anyMissing, rowMedians\n",
      "\n",
      "\n",
      "The following objects are masked from ‘package:rsbml’:\n",
      "\n",
      "    notes, notes<-\n",
      "\n",
      "\n"
     ]
    }
   ],
   "source": [
    "library(\"SingleCellExperiment\")"
   ]
  },
  {
   "cell_type": "code",
   "execution_count": 8,
   "id": "7966ac92",
   "metadata": {},
   "outputs": [],
   "source": [
    "library(\"DESeq2\")"
   ]
  },
  {
   "cell_type": "code",
   "execution_count": 9,
   "id": "03f86103",
   "metadata": {},
   "outputs": [
    {
     "name": "stderr",
     "output_type": "stream",
     "text": [
      "Loading required package: BiocParallel\n",
      "\n",
      "Loading required package: Biostrings\n",
      "\n",
      "Loading required package: XVector\n",
      "\n",
      "\n",
      "Attaching package: ‘Biostrings’\n",
      "\n",
      "\n",
      "The following object is masked from ‘package:rsbml’:\n",
      "\n",
      "    unitScale\n",
      "\n",
      "\n",
      "The following object is masked from ‘package:base’:\n",
      "\n",
      "    strsplit\n",
      "\n",
      "\n",
      "Loading required package: Rsamtools\n",
      "\n",
      "Loading required package: GenomicAlignments\n",
      "\n",
      "\n",
      "Attaching package: ‘ShortRead’\n",
      "\n",
      "\n",
      "The following objects are masked from ‘package:rsbml’:\n",
      "\n",
      "    id, name, position\n",
      "\n",
      "\n"
     ]
    }
   ],
   "source": [
    "library(\"ShortRead\")"
   ]
  },
  {
   "cell_type": "code",
   "execution_count": 11,
   "id": "266d8544",
   "metadata": {},
   "outputs": [],
   "source": [
    "library(\"GenomicAlignments\")"
   ]
  },
  {
   "cell_type": "code",
   "execution_count": 12,
   "id": "78f2c1b1",
   "metadata": {},
   "outputs": [
    {
     "name": "stderr",
     "output_type": "stream",
     "text": [
      "Loading required package: AnnotationDbi\n",
      "\n"
     ]
    }
   ],
   "source": [
    "library(\"GenomicFeatures\")"
   ]
  },
  {
   "cell_type": "code",
   "execution_count": 13,
   "id": "d66f0834",
   "metadata": {},
   "outputs": [
    {
     "data": {
      "text/html": [
       "'/usr/local/lib/R/site-library/ShortRead'"
      ],
      "text/latex": [
       "'/usr/local/lib/R/site-library/ShortRead'"
      ],
      "text/markdown": [
       "'/usr/local/lib/R/site-library/ShortRead'"
      ],
      "text/plain": [
       "[1] \"/usr/local/lib/R/site-library/ShortRead\""
      ]
     },
     "metadata": {},
     "output_type": "display_data"
    }
   ],
   "source": [
    "find.package('ShortRead')"
   ]
  },
  {
   "cell_type": "code",
   "execution_count": 16,
   "id": "1786c49a",
   "metadata": {},
   "outputs": [
    {
     "name": "stderr",
     "output_type": "stream",
     "text": [
      "'getOption(\"repos\")' replaces Bioconductor standard repositories, see\n",
      "'?repositories' for details\n",
      "\n",
      "replacement repositories:\n",
      "    CRAN: https://cloud.r-project.org\n",
      "\n",
      "\n",
      "Bioconductor version 3.13 (BiocManager 1.30.15), R 4.1.0 (2021-05-18)\n",
      "\n",
      "Warning message:\n",
      "“package(s) not installed when version(s) same as current; use `force = TRUE` to\n",
      "  re-install: 'XML'”\n"
     ]
    }
   ],
   "source": [
    "BiocManager::install('XML')"
   ]
  },
  {
   "cell_type": "code",
   "execution_count": 17,
   "id": "98d2149b",
   "metadata": {},
   "outputs": [],
   "source": [
    "library(XML)"
   ]
  },
  {
   "cell_type": "code",
   "execution_count": 18,
   "id": "09d6fd3b",
   "metadata": {},
   "outputs": [
    {
     "name": "stderr",
     "output_type": "stream",
     "text": [
      "'getOption(\"repos\")' replaces Bioconductor standard repositories, see\n",
      "'?repositories' for details\n",
      "\n",
      "replacement repositories:\n",
      "    CRAN: https://cloud.r-project.org\n",
      "\n",
      "\n",
      "Bioconductor version 3.13 (BiocManager 1.30.15), R 4.1.0 (2021-05-18)\n",
      "\n",
      "Installing package(s) 'Rgraphviz'\n",
      "\n"
     ]
    }
   ],
   "source": [
    "BiocManager::install('Rgraphviz')"
   ]
  },
  {
   "cell_type": "code",
   "execution_count": 1,
   "id": "32e22f21",
   "metadata": {},
   "outputs": [
    {
     "name": "stderr",
     "output_type": "stream",
     "text": [
      "'getOption(\"repos\")' replaces Bioconductor standard repositories, see\n",
      "'?repositories' for details\n",
      "\n",
      "replacement repositories:\n",
      "    CRAN: https://cloud.r-project.org\n",
      "\n",
      "\n",
      "Bioconductor version 3.13 (BiocManager 1.30.15), R 4.1.0 (2021-05-18)\n",
      "\n",
      "Warning message:\n",
      "“package(s) not installed when version(s) same as current; use `force = TRUE` to\n",
      "  re-install: 'BiocSklearn'”\n"
     ]
    }
   ],
   "source": [
    "BiocManager::install('BiocSklearn')"
   ]
  },
  {
   "cell_type": "code",
   "execution_count": null,
   "id": "6be24434",
   "metadata": {},
   "outputs": [],
   "source": [
    "library('BiocSklearn')"
   ]
  },
  {
   "cell_type": "code",
   "execution_count": null,
   "id": "c6deeadf",
   "metadata": {},
   "outputs": [],
   "source": [
    "BiocManager::install('rhdf5')"
   ]
  },
  {
   "cell_type": "code",
   "execution_count": null,
   "id": "ea47bfb1",
   "metadata": {},
   "outputs": [],
   "source": [
    "library(rhdf5)"
   ]
  },
  {
   "cell_type": "code",
   "execution_count": null,
   "id": "68940bee",
   "metadata": {},
   "outputs": [],
   "source": [
    "BiocManager::install('ChemmineOB')"
   ]
  },
  {
   "cell_type": "code",
   "execution_count": null,
   "id": "7ff9278b",
   "metadata": {},
   "outputs": [],
   "source": [
    "library(ChemmineOB)"
   ]
  },
  {
   "cell_type": "code",
   "execution_count": null,
   "id": "2c2f6b0a",
   "metadata": {},
   "outputs": [],
   "source": [
    "BiocManager::install('EBImage')"
   ]
  },
  {
   "cell_type": "code",
   "execution_count": null,
   "id": "91b6334b",
   "metadata": {},
   "outputs": [],
   "source": [
    "library(EBImage)"
   ]
  },
  {
   "cell_type": "code",
   "execution_count": null,
   "id": "657b2100",
   "metadata": {},
   "outputs": [],
   "source": [
    "BiocManager::install('RMySQL')"
   ]
  },
  {
   "cell_type": "code",
   "execution_count": null,
   "id": "c29efb6b",
   "metadata": {},
   "outputs": [],
   "source": [
    "library(RMySQL)"
   ]
  },
  {
   "cell_type": "code",
   "execution_count": null,
   "id": "736163eb",
   "metadata": {},
   "outputs": [],
   "source": [
    "BiocManager::install('DirichletMultinomial')"
   ]
  },
  {
   "cell_type": "code",
   "execution_count": null,
   "id": "054c1c3c",
   "metadata": {},
   "outputs": [],
   "source": [
    "library(DirichletMultinomial)"
   ]
  },
  {
   "cell_type": "code",
   "execution_count": null,
   "id": "d649b4bb",
   "metadata": {},
   "outputs": [],
   "source": [
    "BiocManager::install('rjags')"
   ]
  },
  {
   "cell_type": "code",
   "execution_count": null,
   "id": "2f828838",
   "metadata": {},
   "outputs": [],
   "source": []
  },
  {
   "cell_type": "code",
   "execution_count": null,
   "id": "b667e826",
   "metadata": {},
   "outputs": [],
   "source": []
  }
 ],
 "metadata": {
  "kernelspec": {
   "display_name": "R",
   "language": "R",
   "name": "ir"
  },
  "language_info": {
   "codemirror_mode": "r",
   "file_extension": ".r",
   "mimetype": "text/x-r-source",
   "name": "R",
   "pygments_lexer": "r",
   "version": "4.1.0"
  }
 },
 "nbformat": 4,
 "nbformat_minor": 5
}
