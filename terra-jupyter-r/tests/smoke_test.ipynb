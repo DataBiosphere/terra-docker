{
 "cells": [
  {
   "cell_type": "markdown",
   "id": "3d33c4ec",
   "metadata": {},
   "source": [
    "Test Bioconductor image"
   ]
  },
  {
   "cell_type": "code",
   "execution_count": null,
   "id": "52ca0aa1",
   "metadata": {},
   "outputs": [],
   "source": [
    "BiocManager::install('assertthat')"
   ]
  },
  {
   "cell_type": "code",
   "execution_count": null,
   "id": "martial-fitness",
   "metadata": {},
   "outputs": [],
   "source": [
    "require(assertthat)"
   ]
  },
  {
   "cell_type": "code",
   "execution_count": null,
   "id": "blessed-burden",
   "metadata": {},
   "outputs": [],
   "source": [
    "BiocManager::version()"
   ]
  },
  {
   "cell_type": "code",
   "execution_count": null,
   "id": "7cde5e74",
   "metadata": {},
   "outputs": [],
   "source": [
    "BiocManager::install(\"rsbml\")"
   ]
  },
  {
   "cell_type": "code",
   "execution_count": null,
   "id": "fc54067c",
   "metadata": {},
   "outputs": [],
   "source": [
    "library(rsbml)"
   ]
  },
  {
   "cell_type": "code",
   "execution_count": null,
   "id": "699ca08a",
   "metadata": {},
   "outputs": [],
   "source": [
    "BiocManager::install(\"RCurl\")"
   ]
  },
  {
   "cell_type": "code",
   "execution_count": null,
   "id": "91f1d7ad",
   "metadata": {},
   "outputs": [],
   "source": [
    "library(RCurl)"
   ]
  },
  {
   "cell_type": "code",
   "execution_count": null,
   "id": "b941edc1",
   "metadata": {},
   "outputs": [],
   "source": [
    "library(\"SingleCellExperiment\")"
   ]
  },
  {
   "cell_type": "code",
   "execution_count": null,
   "id": "3adf1f30",
   "metadata": {},
   "outputs": [],
   "source": [
    "# This will be fixed in bioc (R 4.0)\n",
    "# library(\"DESeq2\")"
   ]
  },
  {
   "cell_type": "code",
   "execution_count": null,
   "id": "bibliographic-intent",
   "metadata": {},
   "outputs": [],
   "source": [
    "# assert_that('DESeq2' %in% rownames(installed.packages()) == 'TRUE')"
   ]
  },
  {
   "cell_type": "code",
   "execution_count": null,
   "id": "3663e1de",
   "metadata": {},
   "outputs": [],
   "source": [
    "library(\"ShortRead\")"
   ]
  },
  {
   "cell_type": "code",
   "execution_count": null,
   "id": "7c2881aa",
   "metadata": {},
   "outputs": [],
   "source": [
    "library(\"GenomicAlignments\")"
   ]
  },
  {
   "cell_type": "code",
   "execution_count": null,
   "id": "15a5ba29",
   "metadata": {},
   "outputs": [],
   "source": [
    "library(\"GenomicFeatures\")"
   ]
  },
  {
   "cell_type": "code",
   "execution_count": null,
   "id": "45051b29",
   "metadata": {},
   "outputs": [],
   "source": [
    "find.package('ShortRead')"
   ]
  },
  {
   "cell_type": "code",
   "execution_count": null,
   "id": "09a7477d",
   "metadata": {},
   "outputs": [],
   "source": [
    "BiocManager::install('XML')"
   ]
  },
  {
   "cell_type": "code",
   "execution_count": null,
   "id": "c33a766b",
   "metadata": {},
   "outputs": [],
   "source": [
    "library(XML)"
   ]
  },
  {
   "cell_type": "code",
   "execution_count": null,
   "id": "c90bd714",
   "metadata": {},
   "outputs": [],
   "source": [
    "BiocManager::install('Rgraphviz')"
   ]
  },
  {
   "cell_type": "code",
   "execution_count": null,
   "id": "0ba20610",
   "metadata": {},
   "outputs": [],
   "source": [
    "BiocManager::install('BiocSklearn')"
   ]
  },
  {
   "cell_type": "code",
   "execution_count": null,
   "id": "8cd7e307",
   "metadata": {},
   "outputs": [],
   "source": [
    "library('BiocSklearn')"
   ]
  },
  {
   "cell_type": "code",
   "execution_count": null,
   "id": "fbb3f21b",
   "metadata": {},
   "outputs": [],
   "source": [
    "BiocManager::install('rhdf5')"
   ]
  },
  {
   "cell_type": "code",
   "execution_count": null,
   "id": "919ab35c",
   "metadata": {},
   "outputs": [],
   "source": [
    "library(rhdf5)"
   ]
  },
  {
   "cell_type": "code",
   "execution_count": null,
   "id": "a7e397b2",
   "metadata": {},
   "outputs": [],
   "source": [
    "# Currently broken\n",
    "# BiocManager::install('ChemmineOB')"
   ]
  },
  {
   "cell_type": "code",
   "execution_count": null,
   "id": "c3d238c6",
   "metadata": {},
   "outputs": [],
   "source": [
    "# library(ChemmineOB)"
   ]
  },
  {
   "cell_type": "code",
   "execution_count": null,
   "id": "4dad1ef3",
   "metadata": {},
   "outputs": [],
   "source": [
    "BiocManager::install('EBImage')"
   ]
  },
  {
   "cell_type": "code",
   "execution_count": null,
   "id": "4749b448",
   "metadata": {},
   "outputs": [],
   "source": [
    "library(EBImage)"
   ]
  },
  {
   "cell_type": "code",
   "execution_count": null,
   "id": "fdb05268",
   "metadata": {},
   "outputs": [],
   "source": [
    "BiocManager::install('RMySQL')"
   ]
  },
  {
   "cell_type": "code",
   "execution_count": null,
   "id": "aa8c5778",
   "metadata": {},
   "outputs": [],
   "source": [
    "library(RMySQL)"
   ]
  },
  {
   "cell_type": "code",
   "execution_count": null,
   "id": "592faa65",
   "metadata": {},
   "outputs": [],
   "source": [
    "BiocManager::install('DirichletMultinomial')"
   ]
  },
  {
   "cell_type": "code",
   "execution_count": null,
   "id": "e87ffece",
   "metadata": {},
   "outputs": [],
   "source": [
    "library(DirichletMultinomial)"
   ]
  },
  {
   "cell_type": "code",
   "execution_count": null,
   "id": "f3e13a29",
   "metadata": {},
   "outputs": [],
   "source": [
    "BiocManager::install('rjags')"
   ]
  },
  {
   "cell_type": "code",
   "execution_count": null,
   "id": "72a7c4d4",
   "metadata": {},
   "outputs": [],
   "source": [
    "library('rjags')"
   ]
  },
  {
   "cell_type": "code",
   "execution_count": null,
   "id": "invisible-romantic",
   "metadata": {},
   "outputs": [],
   "source": [
    "BiocManager::install('testit')"
   ]
  },
  {
   "cell_type": "code",
   "execution_count": null,
   "id": "a3c864c5",
   "metadata": {},
   "outputs": [],
   "source": [
    "# Comment out for now\n",
    "BiocManager::install('protolite')"
   ]
  },
  {
   "cell_type": "code",
   "execution_count": null,
   "id": "6a4b7b40",
   "metadata": {},
   "outputs": [],
   "source": [
    "library(protolite)"
   ]
  },
  {
   "cell_type": "code",
   "execution_count": null,
   "id": "younger-greenhouse",
   "metadata": {
    "scrolled": true
   },
   "outputs": [],
   "source": [
    "assert_that(\"GenomicFeatures\" %in% installed.packages() == 'TRUE')"
   ]
  },
  {
   "cell_type": "code",
   "execution_count": null,
   "id": "approximate-cutting",
   "metadata": {},
   "outputs": [],
   "source": [
    "assert_that(\"SingleCellExperiment\" %in% installed.packages() == 'TRUE')"
   ]
  },
  {
   "cell_type": "code",
   "execution_count": null,
   "id": "special-fishing",
   "metadata": {},
   "outputs": [],
   "source": [
    "assert_that(\"GenomicAlignments\" %in% installed.packages() == 'TRUE')"
   ]
  },
  {
   "cell_type": "code",
   "execution_count": null,
   "id": "conscious-hacker",
   "metadata": {},
   "outputs": [],
   "source": [
    "assert_that(\"ShortRead\" %in% installed.packages() == 'TRUE')"
   ]
  },
  {
   "cell_type": "code",
   "execution_count": null,
   "id": "6f3c92ba",
   "metadata": {},
   "outputs": [],
   "source": [
    "assert_that(\"Seurat\" %in% installed.packages() == 'TRUE')"
   ]
  }
 ],
 "metadata": {
  "kernelspec": {
   "display_name": "R",
   "language": "R",
   "name": "ir"
  },
  "language_info": {
   "codemirror_mode": "r",
   "file_extension": ".r",
   "mimetype": "text/x-r-source",
   "name": "R",
   "pygments_lexer": "r",
   "version": "4.1.0"
  },
  "toc": {
   "base_numbering": 1,
   "nav_menu": {},
   "number_sections": true,
   "sideBar": true,
   "skip_h1_title": false,
   "title_cell": "Table of Contents",
   "title_sidebar": "Contents",
   "toc_cell": false,
   "toc_position": {},
   "toc_section_display": true,
   "toc_window_display": false
  }
 },
 "nbformat": 4,
 "nbformat_minor": 5
}
