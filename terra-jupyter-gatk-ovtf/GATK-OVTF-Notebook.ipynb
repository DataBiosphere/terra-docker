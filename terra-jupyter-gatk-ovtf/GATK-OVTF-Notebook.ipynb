{
 "cells": [
  {
   "cell_type": "markdown",
   "metadata": {},
   "source": [
    "# OpenVINO integration with TensorFlow on GATK CNNScoreVariants\n",
    "\n",
    "This notebook demonstrates using OpenVINO integration with TensorFlow on GATK CNNScoreVariants to achieve an improved performance.\n",
    "\n",
    "1. First, we execute CNNScoreVariants on a sample input data to execute and observe the improved throughput.\n",
    "\n",
    "2. Then, we execute CNNScoreVariants using the same input data and parameters again. However, this time we disable OpenVINO integration with TensorFlow to compare the throughput with stock TensorFlow. \n",
    "\n",
    "***Note:*** This notebook is intented to be run with \"terra-docker-gatk-ovtf\" image."
   ]
  },
  {
   "cell_type": "markdown",
   "metadata": {},
   "source": [
    "## Baseline GATK CNNScoreVariants"
   ]
  },
  {
   "cell_type": "code",
   "execution_count": null,
   "metadata": {
    "scrolled": true
   },
   "outputs": [],
   "source": [
    "!OPENVINO_TF_DISABLE=\"1\" \\\n",
    " gatk CNNScoreVariants \\\n",
    "        -I gs://gatk-tutorials/workshop_2002/2-germline/CNNScoreVariants/bams/g94982_chr20_1m_10m_bamout.bam \\\n",
    "        -V gs://gatk-tutorials/workshop_2002/2-germline/CNNScoreVariants/vcfs/g94982_b37_chr20_1m_15871.vcf.gz \\\n",
    "        -R gs://gcp-public-data--broad-references/hg19/v0/Homo_sapiens_assembly19.fasta \\\n",
    "        -O my_2d_cnn_scored_ovtf.vcf \\\n",
    "        --tensor-type read_tensor \\\n",
    "        --transfer-batch-size 256 \\\n",
    "        --inference-batch-size 256"
   ]
  },
  {
   "cell_type": "markdown",
   "metadata": {},
   "source": [
    "## GATK CNNScoreVariants with oneDNN optimization\n",
    "The oneAPI Deep Neural Network Library (oneDNN) optimizations are also now available in the official x86-64 TensorFlow after v2.5. Users can enable those CPU optimizations by setting the the environment variable TF_ENABLE_ONEDNN_OPTS=1 for the official x86-64 TensorFlow after v2.5."
   ]
  },
  {
   "cell_type": "code",
   "execution_count": null,
   "metadata": {
    "scrolled": true
   },
   "outputs": [],
   "source": [
    "!TF_ENABLE_ONEDNN_OPTS=1 OPENVINO_TF_DISABLE=\"1\" \\\n",
    " gatk CNNScoreVariants \\\n",
    "        -I gs://gatk-tutorials/workshop_2002/2-germline/CNNScoreVariants/bams/g94982_chr20_1m_10m_bamout.bam \\\n",
    "        -V gs://gatk-tutorials/workshop_2002/2-germline/CNNScoreVariants/vcfs/g94982_b37_chr20_1m_15871.vcf.gz \\\n",
    "        -R gs://gcp-public-data--broad-references/hg19/v0/Homo_sapiens_assembly19.fasta \\\n",
    "        -O my_2d_cnn_scored_ovtf.vcf \\\n",
    "        --tensor-type read_tensor \\\n",
    "        --transfer-batch-size 256 \\\n",
    "        --inference-batch-size 256"
   ]
  },
  {
   "cell_type": "markdown",
   "metadata": {},
   "source": [
    "## GATK CNNScoreVariants on OV-TF"
   ]
  },
  {
   "cell_type": "code",
   "execution_count": null,
   "metadata": {
    "scrolled": true
   },
   "outputs": [],
   "source": [
    "!gatk CNNScoreVariants \\\n",
    "        -I gs://gatk-tutorials/workshop_2002/2-germline/CNNScoreVariants/bams/g94982_chr20_1m_10m_bamout.bam \\\n",
    "        -V gs://gatk-tutorials/workshop_2002/2-germline/CNNScoreVariants/vcfs/g94982_b37_chr20_1m_15871.vcf.gz \\\n",
    "        -R gs://gcp-public-data--broad-references/hg19/v0/Homo_sapiens_assembly19.fasta \\\n",
    "        -O my_2d_cnn_scored.vcf \\\n",
    "        --tensor-type read_tensor \\\n",
    "        --transfer-batch-size 256 \\\n",
    "        --inference-batch-size 256"
   ]
  }
 ],
 "metadata": {
  "kernelspec": {
   "display_name": "Python 3",
   "language": "python",
   "name": "python3"
  },
  "language_info": {
   "codemirror_mode": {
    "name": "ipython",
    "version": 3
   },
   "file_extension": ".py",
   "mimetype": "text/x-python",
   "name": "python",
   "nbconvert_exporter": "python",
   "pygments_lexer": "ipython3",
   "version": "3.7.6"
  },
  "toc": {
   "base_numbering": 1,
   "nav_menu": {},
   "number_sections": true,
   "sideBar": true,
   "skip_h1_title": false,
   "title_cell": "Table of Contents",
   "title_sidebar": "Contents",
   "toc_cell": false,
   "toc_position": {},
   "toc_section_display": true,
   "toc_window_display": false
  }
 },
 "nbformat": 4,
 "nbformat_minor": 2
}
