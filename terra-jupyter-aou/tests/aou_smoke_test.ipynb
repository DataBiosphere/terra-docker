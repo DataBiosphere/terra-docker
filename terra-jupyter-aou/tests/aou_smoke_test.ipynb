{
 "cells": [
  {
   "cell_type": "markdown",
   "metadata": {},
   "source": [
    "# Test cases requiring or benefiting from the context of a notebook\n",
    "\n",
    "If the notebook runs successfully from start to finish, the test is successful!\n",
    "\n",
    "TODO(all): Add additional tests and/or tests with particular assertions, as we encounter Python package version incompatibilities not currently detected by these tests.\n",
    "\n",
    "In general, only add test cases here that require the context of a notebook. This is because this notebook, as currently written, will abort at the **first** failure. Compare this to a proper test suite where all cases are run, giving much more information about the full extent of any problems encountered."
   ]
  },
  {
   "cell_type": "markdown",
   "metadata": {},
   "source": [
    "# Package versions"
   ]
  },
  {
   "cell_type": "code",
   "execution_count": null,
   "metadata": {},
   "outputs": [],
   "source": [
    "!pip3 freeze"
   ]
  },
  {
   "cell_type": "code",
   "execution_count": null,
   "metadata": {},
   "outputs": [],
   "source": [
    "!pip3 show plotnine pandas google-cloud-storage google-cloud-bigquery google-resumable-media"
   ]
  },
  {
   "cell_type": "markdown",
   "metadata": {},
   "source": [
    "# Test cases requiring the context of a notebook "
   ]
  },
  {
   "cell_type": "markdown",
   "metadata": {},
   "source": [
    "## Test Terra widgets\n",
    "\n",
    "TODO(deflaux) this test could be enabled if we shared a Terra test workspace with the service account used for the GitHub Action."
   ]
  },
  {
   "cell_type": "raw",
   "metadata": {},
   "source": [
    "from terra_widgets.html_snapshots import display_html_snapshots_widget\n",
    "\n",
    "# This will display a user interface to interact with HTML snapshots stored in the workspace bucket.\n",
    "display_html_snapshots_widget()"
   ]
  },
  {
   "cell_type": "markdown",
   "metadata": {},
   "source": [
    "# Test cases benefiting from the context of a notebook "
   ]
  },
  {
   "cell_type": "markdown",
   "metadata": {},
   "source": [
    "## Test AoU workbench snippets setup\n",
    "\n",
    "We test these here since they don't test well via `pytest` because they all have the same module name."
   ]
  },
  {
   "cell_type": "code",
   "execution_count": null,
   "metadata": {},
   "outputs": [],
   "source": [
    "%%bash\n",
    "\n",
    "git clone https://github.com/all-of-us/workbench-snippets.git /tmp/workbench-snippets"
   ]
  },
  {
   "cell_type": "code",
   "execution_count": null,
   "metadata": {},
   "outputs": [],
   "source": [
    "%%bash\n",
    "\n",
    "export WORKSPACE_CDR=placeholder_string\n",
    "python3 /tmp/workbench-snippets/dataset-snippets/snippets_setup.py"
   ]
  },
  {
   "cell_type": "code",
   "execution_count": null,
   "metadata": {},
   "outputs": [],
   "source": [
    "%%bash\n",
    "\n",
    "export WORKSPACE_CDR=placeholder_string\n",
    "python3 /tmp/workbench-snippets/sql-snippets/snippets_setup.py"
   ]
  },
  {
   "cell_type": "code",
   "execution_count": null,
   "metadata": {},
   "outputs": [],
   "source": [
    "%%bash\n",
    "\n",
    "export WORKSPACE_CDR=placeholder_string\n",
    "python3 /tmp/workbench-snippets/storage-snippets/snippets_setup.py"
   ]
  },
  {
   "cell_type": "markdown",
   "metadata": {},
   "source": [
    "## Test that our source control protections are working."
   ]
  },
  {
   "cell_type": "markdown",
   "metadata": {},
   "source": [
    "### global gitignore omit images and data from source control"
   ]
  },
  {
   "cell_type": "markdown",
   "metadata": {},
   "source": [
    "Make some new files of various types in the git repo clone."
   ]
  },
  {
   "cell_type": "code",
   "execution_count": null,
   "metadata": {},
   "outputs": [],
   "source": [
    "%%bash\n",
    "\n",
    "touch /tmp/workbench-snippets/should_be_ignored.png\n",
    "touch /tmp/workbench-snippets/should_be_ignored.csv\n",
    "touch /tmp/workbench-snippets/should_be_ignored.tsv\n",
    "touch /tmp/workbench-snippets/should_be_ignored.CSV\n",
    "touch /tmp/workbench-snippets/should_be_ignored.TSV\n",
    "touch /tmp/workbench-snippets/should_be_visible.r\n",
    "touch /tmp/workbench-snippets/should_be_visible.R\n",
    "touch /tmp/workbench-snippets/should_be_visible.py\n",
    "touch /tmp/workbench-snippets/should_be_visible.wdl\n",
    "touch /tmp/workbench-snippets/should_be_visible.sh\n",
    "touch /tmp/workbench-snippets/should_be_visible.md\n",
    "mkdir -p /tmp/workbench-snippets/some_diretory/\n",
    "touch /tmp/workbench-snippets/some_diretory/should_be_ignored.CSV\n",
    "touch /tmp/workbench-snippets/some_diretory/should_be_visible.sh"
   ]
  },
  {
   "cell_type": "markdown",
   "metadata": {},
   "source": [
    "The git status should only show code and documentation files (no data)."
   ]
  },
  {
   "cell_type": "code",
   "execution_count": null,
   "metadata": {},
   "outputs": [],
   "source": [
    "actual = !cd /tmp/workbench-snippets/; git status\n",
    "\n",
    "actual"
   ]
  },
  {
   "cell_type": "code",
   "execution_count": null,
   "metadata": {},
   "outputs": [],
   "source": [
    "assert(any('should_be_visible' in s for s in actual))"
   ]
  },
  {
   "cell_type": "code",
   "execution_count": null,
   "metadata": {},
   "outputs": [],
   "source": [
    "assert(not any('should_be_ignored' in s for s in actual))"
   ]
  },
  {
   "cell_type": "markdown",
   "metadata": {},
   "source": [
    "### Ensure that notebook outputs are removed"
   ]
  },
  {
   "cell_type": "markdown",
   "metadata": {},
   "source": [
    "Make a notebook file containing outputs."
   ]
  },
  {
   "cell_type": "code",
   "execution_count": null,
   "metadata": {},
   "outputs": [],
   "source": [
    "%%bash\n",
    "\n",
    "cat << 'EOF' > /tmp/workbench-snippets/should_be_visible.ipynb\n",
    "\n",
    "{\n",
    " \"cells\": [\n",
    "  {\n",
    "   \"cell_type\": \"code\",\n",
    "   \"execution_count\": 2,\n",
    "   \"id\": \"pacific-album\",\n",
    "   \"metadata\": {},\n",
    "   \"outputs\": [\n",
    "    {\n",
    "     \"data\": {\n",
    "      \"text/plain\": [\n",
    "       \"'this is an output'\"\n",
    "      ]\n",
    "     },\n",
    "     \"execution_count\": 2,\n",
    "     \"metadata\": {},\n",
    "     \"output_type\": \"execute_result\"\n",
    "    }\n",
    "   ],\n",
    "   \"source\": [\n",
    "    \"\\\" \\\".join(['this', 'is', 'an', 'output'])\"\n",
    "   ]\n",
    "  }\n",
    " ],\n",
    " \"metadata\": {},\n",
    " \"nbformat\": 4,\n",
    " \"nbformat_minor\": 5\n",
    "}\n",
    "\n",
    "EOF"
   ]
  },
  {
   "cell_type": "markdown",
   "metadata": {},
   "source": [
    "The git diff should show that the outputs have been removed."
   ]
  },
  {
   "cell_type": "code",
   "execution_count": null,
   "metadata": {},
   "outputs": [],
   "source": [
    "actual = !cd /tmp/workbench-snippets/ ; git add should_be_visible.ipynb ; git diff --staged should_be_visible.ipynb\n",
    "\n",
    "actual"
   ]
  },
  {
   "cell_type": "code",
   "execution_count": null,
   "metadata": {},
   "outputs": [],
   "source": [
    "assert(any('\"outputs\": [],' in s for s in actual))"
   ]
  },
  {
   "cell_type": "code",
   "execution_count": null,
   "metadata": {},
   "outputs": [],
   "source": [
    "assert(not any('this is an output' in s for s in actual))"
   ]
  }
 ],
 "metadata": {
  "environment": {
   "name": "r-cpu.3-6.m56",
   "type": "gcloud",
   "uri": "gcr.io/deeplearning-platform-release/r-cpu.3-6:m56"
  },
  "kernelspec": {
   "display_name": "Python 3",
   "language": "python",
   "name": "python3"
  },
  "language_info": {
   "codemirror_mode": {
    "name": "ipython",
    "version": 3
   },
   "file_extension": ".py",
   "mimetype": "text/x-python",
   "name": "python",
   "nbconvert_exporter": "python",
   "pygments_lexer": "ipython3",
   "version": "3.7.8"
  },
  "toc": {
   "base_numbering": 1,
   "nav_menu": {},
   "number_sections": true,
   "sideBar": true,
   "skip_h1_title": false,
   "title_cell": "Table of Contents",
   "title_sidebar": "Contents",
   "toc_cell": false,
   "toc_position": {},
   "toc_section_display": true,
   "toc_window_display": true
  }
 },
 "nbformat": 4,
 "nbformat_minor": 4
}
