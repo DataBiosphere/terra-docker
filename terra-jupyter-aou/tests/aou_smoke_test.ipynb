{
 "cells": [
  {
   "cell_type": "markdown",
   "metadata": {},
   "source": [
    "# Test cases requiring or benefiting from the context of a notebook\n",
    "\n",
    "If the notebook runs successfully from start to finish, the test is successful!\n",
    "\n",
    "TODO(all): Add additional tests and/or tests with particular assertions, as we encounter Python package version incompatibilities not currently detected by these tests.\n",
    "\n",
    "In general, only add test cases here that require the context of a notebook. This is because this notebook, as currently written, will abort at the **first** failure. Compare this to a proper test suite where all cases are run, giving much more information about the full extent of any problems encountered."
   ]
  },
  {
   "cell_type": "markdown",
   "metadata": {},
   "source": [
    "# Package versions"
   ]
  },
  {
   "cell_type": "code",
   "execution_count": 1,
   "metadata": {},
   "outputs": [
    {
     "name": "stdout",
     "output_type": "stream",
     "text": [
      "descartes==1.1.0\r\n",
      "grpcio==1.34.1\r\n",
      "iniconfig==1.1.1\r\n",
      "mizani==0.7.3\r\n",
      "nbstripout==0.4.0\r\n",
      "palettable==3.3.0\r\n",
      "pandas-gbq==0.15.0\r\n",
      "plotnine==0.8.0\r\n",
      "pluggy==0.13.1\r\n",
      "protobuf==3.17.3\r\n",
      "py==1.10.0\r\n",
      "pydata-google-auth==1.2.0\r\n",
      "pytest==6.2.4\r\n",
      "six==1.15.0\r\n",
      "tensorflow-cpu==2.5.0\r\n",
      "terra-widgets @ git+git://github.com/all-of-us/workbench-snippets.git@64f37890a75dfc0074ca0476d8a5bce9727b1846#subdirectory=py\r\n"
     ]
    }
   ],
   "source": [
    "!pip3 freeze"
   ]
  },
  {
   "cell_type": "code",
   "execution_count": 2,
   "metadata": {},
   "outputs": [
    {
     "name": "stdout",
     "output_type": "stream",
     "text": [
      "Name: plotnine\n",
      "Version: 0.8.0\n",
      "Summary: A grammar of graphics for python\n",
      "Home-page: https://github.com/has2k1/plotnine\n",
      "Author: None\n",
      "Author-email: None\n",
      "License: GPL-2\n",
      "Location: /home/jupyter/.local/lib/python3.7/site-packages\n",
      "Requires: numpy, pandas, mizani, matplotlib, scipy, patsy, statsmodels, descartes\n",
      "Required-by: \n",
      "---\n",
      "Name: pandas\n",
      "Version: 1.1.4\n",
      "Summary: Powerful data structures for data analysis, time series, and statistics\n",
      "Home-page: https://pandas.pydata.org\n",
      "Author: None\n",
      "Author-email: None\n",
      "License: BSD\n",
      "Location: /opt/conda/lib/python3.7/site-packages\n",
      "Requires: numpy, pytz, python-dateutil\n",
      "Required-by: terra-widgets, plotnine, pandas-gbq, mizani, xarray, visions, statsmodels, seaborn, pymc3, phik, pandas-profiling, hail, ggplot, arviz\n",
      "---\n",
      "Name: google-cloud-storage\n",
      "Version: 1.25.0\n",
      "Summary: Google Cloud Storage API client library\n",
      "Home-page: https://github.com/GoogleCloudPlatform/google-cloud-python\n",
      "Author: Google LLC\n",
      "Author-email: googleapis-packages@google.com\n",
      "License: Apache 2.0\n",
      "Location: /opt/conda/lib/python3.7/site-packages\n",
      "Requires: google-resumable-media, google-cloud-core, google-auth\n",
      "Required-by: terra-notebook-utils, hail, gs-chunked-io, caip-notebooks-serverextension\n",
      "---\n",
      "Name: google-cloud-bigquery\n",
      "Version: 2.20.0\n",
      "Summary: Google BigQuery API client library\n",
      "Home-page: https://github.com/googleapis/python-bigquery\n",
      "Author: Google LLC\n",
      "Author-email: googleapis-packages@google.com\n",
      "License: Apache 2.0\n",
      "Location: /opt/conda/lib/python3.7/site-packages\n",
      "Requires: google-cloud-core, requests, proto-plus, packaging, protobuf, google-resumable-media, google-api-core\n",
      "Required-by: pandas-gbq\n",
      "---\n",
      "Name: google-resumable-media\n",
      "Version: 0.5.1\n",
      "Summary: Utilities for Google Media Downloads and Resumable Uploads\n",
      "Home-page: https://github.com/googleapis/google-resumable-media-python\n",
      "Author: Google Cloud Platform\n",
      "Author-email: googleapis-publisher@google.com\n",
      "License: Apache 2.0\n",
      "Location: /opt/conda/lib/python3.7/site-packages\n",
      "Requires: six\n",
      "Required-by: google-cloud-storage, google-cloud-bigquery\n"
     ]
    }
   ],
   "source": [
    "!pip3 show plotnine pandas google-cloud-storage google-cloud-bigquery google-resumable-media"
   ]
  },
  {
   "cell_type": "markdown",
   "metadata": {},
   "source": [
    "# Test cases requiring the context of a notebook "
   ]
  },
  {
   "cell_type": "markdown",
   "metadata": {},
   "source": [
    "## Test Terra widgets\n",
    "\n",
    "TODO(deflaux) this test could be enabled if we shared a Terra test workspace with the service account used for the GitHub Action."
   ]
  },
  {
   "cell_type": "raw",
   "metadata": {},
   "source": [
    "from terra_widgets.html_snapshots import display_html_snapshots_widget\n",
    "\n",
    "# This will display a user interface to interact with HTML snapshots stored in the workspace bucket.\n",
    "display_html_snapshots_widget()"
   ]
  },
  {
   "cell_type": "markdown",
   "metadata": {},
   "source": [
    "# Test cases benefiting from the context of a notebook "
   ]
  },
  {
   "cell_type": "markdown",
   "metadata": {},
   "source": [
    "## Test AoU workbench snippets setup\n",
    "\n",
    "We test these here since they don't test well via `pytest` because they all have the same module name."
   ]
  },
  {
   "cell_type": "code",
   "execution_count": 3,
   "metadata": {},
   "outputs": [
    {
     "name": "stderr",
     "output_type": "stream",
     "text": [
      "Cloning into '/tmp/workbench-snippets'...\n"
     ]
    }
   ],
   "source": [
    "%%bash\n",
    "\n",
    "git clone https://github.com/all-of-us/workbench-snippets.git /tmp/workbench-snippets"
   ]
  },
  {
   "cell_type": "code",
   "execution_count": 4,
   "metadata": {},
   "outputs": [],
   "source": [
    "%%bash\n",
    "\n",
    "export WORKSPACE_CDR=placeholder_string\n",
    "python3 /tmp/workbench-snippets/dataset-snippets/snippets_setup.py"
   ]
  },
  {
   "cell_type": "code",
   "execution_count": 5,
   "metadata": {},
   "outputs": [],
   "source": [
    "%%bash\n",
    "\n",
    "export WORKSPACE_CDR=placeholder_string\n",
    "python3 /tmp/workbench-snippets/sql-snippets/snippets_setup.py"
   ]
  },
  {
   "cell_type": "code",
   "execution_count": 6,
   "metadata": {},
   "outputs": [],
   "source": [
    "%%bash\n",
    "\n",
    "export WORKSPACE_CDR=placeholder_string\n",
    "python3 /tmp/workbench-snippets/storage-snippets/snippets_setup.py"
   ]
  },
  {
   "cell_type": "markdown",
   "metadata": {},
   "source": [
    "## Test that our source control protections are working."
   ]
  },
  {
   "cell_type": "markdown",
   "metadata": {},
   "source": [
    "### Ensure that notebook outputs are removed"
   ]
  },
  {
   "cell_type": "markdown",
   "metadata": {},
   "source": [
    "Make a notebook file containing outputs."
   ]
  },
  {
   "cell_type": "code",
   "execution_count": 11,
   "metadata": {},
   "outputs": [],
   "source": [
    "%%bash\n",
    "\n",
    "cat << 'EOF' > /tmp/workbench-snippets/should_be_visible.ipynb\n",
    "\n",
    "{\n",
    " \"cells\": [\n",
    "  {\n",
    "   \"cell_type\": \"code\",\n",
    "   \"execution_count\": 2,\n",
    "   \"id\": \"pacific-album\",\n",
    "   \"metadata\": {},\n",
    "   \"outputs\": [\n",
    "    {\n",
    "     \"data\": {\n",
    "      \"text/plain\": [\n",
    "       \"'this is an output'\"\n",
    "      ]\n",
    "     },\n",
    "     \"execution_count\": 2,\n",
    "     \"metadata\": {},\n",
    "     \"output_type\": \"execute_result\"\n",
    "    }\n",
    "   ],\n",
    "   \"source\": [\n",
    "    \"\\\" \\\".join(['this', 'is', 'an', 'output'])\"\n",
    "   ]\n",
    "  }\n",
    " ],\n",
    " \"metadata\": {},\n",
    " \"nbformat\": 4,\n",
    " \"nbformat_minor\": 5\n",
    "}\n",
    "\n",
    "EOF"
   ]
  },
  {
   "cell_type": "markdown",
   "metadata": {},
   "source": [
    "The git diff should show that the outputs have been removed."
   ]
  },
  {
   "cell_type": "code",
   "execution_count": 12,
   "metadata": {},
   "outputs": [
    {
     "data": {
      "text/plain": [
       "['diff --git a/should_be_visible.ipynb b/should_be_visible.ipynb',\n",
       " 'new file mode 100644',\n",
       " 'index 0000000..0b7d184',\n",
       " '--- /dev/null',\n",
       " '+++ b/should_be_visible.ipynb',\n",
       " '@@ -0,0 +1,30 @@',\n",
       " '+',\n",
       " '+{',\n",
       " '+ \"cells\": [',\n",
       " '+  {',\n",
       " '+   \"cell_type\": \"code\",',\n",
       " '+   \"execution_count\": 2,',\n",
       " '+   \"id\": \"pacific-album\",',\n",
       " '+   \"metadata\": {},',\n",
       " '+   \"outputs\": [',\n",
       " '+    {',\n",
       " '+     \"data\": {',\n",
       " '+      \"text/plain\": [',\n",
       " '+       \"\\'this is an output\\'\"',\n",
       " '+      ]',\n",
       " '+     },',\n",
       " '+     \"execution_count\": 2,',\n",
       " '+     \"metadata\": {},',\n",
       " '+     \"output_type\": \"execute_result\"',\n",
       " '+    }',\n",
       " '+   ],',\n",
       " '+   \"source\": [',\n",
       " '+    \"\\\\\" \\\\\".join([\\'this\\', \\'is\\', \\'an\\', \\'output\\'])\"',\n",
       " '+   ]',\n",
       " '+  }',\n",
       " '+ ],',\n",
       " '+ \"metadata\": {},',\n",
       " '+ \"nbformat\": 4,',\n",
       " '+ \"nbformat_minor\": 5',\n",
       " '+}',\n",
       " '+']"
      ]
     },
     "execution_count": 12,
     "metadata": {},
     "output_type": "execute_result"
    }
   ],
   "source": [
    "actual = !cd /tmp/workbench-snippets/ ; git add should_be_visible.ipynb ; git diff --staged should_be_visible.ipynb\n",
    "\n",
    "actual"
   ]
  }
 ],
 "metadata": {
  "environment": {
   "name": "r-cpu.3-6.m56",
   "type": "gcloud",
   "uri": "gcr.io/deeplearning-platform-release/r-cpu.3-6:m56"
  },
  "kernelspec": {
   "display_name": "Python 3",
   "language": "python",
   "name": "python3"
  },
  "language_info": {
   "codemirror_mode": {
    "name": "ipython",
    "version": 3
   },
   "file_extension": ".py",
   "mimetype": "text/x-python",
   "name": "python",
   "nbconvert_exporter": "python",
   "pygments_lexer": "ipython3",
   "version": "3.7.10"
  },
  "toc": {
   "base_numbering": 1,
   "nav_menu": {},
   "number_sections": true,
   "sideBar": true,
   "skip_h1_title": false,
   "title_cell": "Table of Contents",
   "title_sidebar": "Contents",
   "toc_cell": false,
   "toc_position": {},
   "toc_section_display": true,
   "toc_window_display": true
  }
 },
 "nbformat": 4,
 "nbformat_minor": 4
}
